#include <iostream>
#include "OpenMS/CHEMISTRY/AASequence.h"
