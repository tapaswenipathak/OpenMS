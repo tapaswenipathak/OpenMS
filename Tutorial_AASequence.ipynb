{
 "cells": [
  {
   "cell_type": "code",
   "execution_count": null,
   "id": "abe5896d",
   "metadata": {},
   "outputs": [],
   "source": [
    "#include <iostream>\n",
    "#include \"OpenMS/CHEMISTRY/AASequence.h\""
   ]
  }
 ],
 "metadata": {
  "kernelspec": {
   "display_name": "C++17",
   "language": "C++17",
   "name": "xeus-cling-cpp17"
  }
 },
 "nbformat": 4,
 "nbformat_minor": 5
}
