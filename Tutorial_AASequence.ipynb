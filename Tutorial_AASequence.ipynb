{
 "cells": [
  {
   "cell_type": "code",
   "execution_count": 9,
   "id": "56790d7c",
   "metadata": {},
   "outputs": [],
   "source": [
    "#include <iostream>\n",
    "#pragma base add_include_path(\"/Users/tapaswenipathak/miniconda3/envs/cling/include/OpenMS/\")"
   ]
  },
  {
   "cell_type": "code",
   "execution_count": 10,
   "id": "659f12fd",
   "metadata": {},
   "outputs": [
    {
     "name": "stderr",
     "output_type": "stream",
     "text": [
      "\u001b[1minput_line_19:1:10: \u001b[0m\u001b[0;1;31mfatal error: \u001b[0m\u001b[1m'OpenMS/CHEMISTRY/AASequence.h' file not found\u001b[0m\n",
      "#include \"OpenMS/CHEMISTRY/AASequence.h\"\n",
      "\u001b[0;1;32m         ^~~~~~~~~~~~~~~~~~~~~~~~~~~~~~~\n",
      "\u001b[0m"
     ]
    },
    {
     "ename": "Interpreter Error",
     "evalue": "",
     "output_type": "error",
     "traceback": [
      "Interpreter Error: "
     ]
    }
   ],
   "source": [
    "#include \"OpenMS/CHEMISTRY/AASequence.h\""
   ]
  },
  {
   "cell_type": "code",
   "execution_count": 4,
   "id": "f8ab4fc0",
   "metadata": {},
   "outputs": [
    {
     "name": "stderr",
     "output_type": "stream",
     "text": [
      "\u001b[1minput_line_12:1:17: \u001b[0m\u001b[0;1;31merror: \u001b[0m\u001b[1mexpected namespace name\u001b[0m\n",
      "using namespace OpenMS;void __cling_Un1Qu32(void* vpClingValue) {\n",
      "\u001b[0;1;32m                ^\n",
      "\u001b[0m\u001b[1minput_line_12:5:9: \u001b[0m\u001b[0;1;31merror: \u001b[0m\u001b[1munknown type name 'String'; did you mean 'string'?\u001b[0m\n",
      "  const String s = \"DEFIANGER\";\n",
      "\u001b[0;1;32m        ^~~~~~\n",
      "\u001b[0m\u001b[0;32m        string\n",
      "\u001b[0m\u001b[1m/Users/tapaswenipathak/miniconda3/envs/cling/bin/../include/c++/v1/iosfwd:250:65: \u001b[0m\u001b[0;1;30mnote: \u001b[0m'string' declared here\u001b[0m\n",
      "typedef basic_string<char, char_traits<char>, allocator<char> > string;\n",
      "\u001b[0;1;32m                                                                ^\n",
      "\u001b[0m\u001b[1minput_line_12:6:3: \u001b[0m\u001b[0;1;31merror: \u001b[0m\u001b[1munknown type name 'AASequence'\u001b[0m\n",
      "  AASequence peptide1 = AASequence::fromString(s);\n",
      "\u001b[0;1;32m  ^\n",
      "\u001b[0m\u001b[1minput_line_12:6:25: \u001b[0m\u001b[0;1;31merror: \u001b[0m\u001b[1muse of undeclared identifier 'AASequence'\u001b[0m\n",
      "  AASequence peptide1 = AASequence::fromString(s);\n",
      "\u001b[0;1;32m                        ^\n",
      "\u001b[0m\u001b[1minput_line_12:8:3: \u001b[0m\u001b[0;1;31merror: \u001b[0m\u001b[1munknown type name 'AASequence'\u001b[0m\n",
      "  AASequence peptide2 = AASequence::fromString(\"PEPTIDER\");\n",
      "\u001b[0;1;32m  ^\n",
      "\u001b[0m\u001b[1minput_line_12:8:25: \u001b[0m\u001b[0;1;31merror: \u001b[0m\u001b[1muse of undeclared identifier 'AASequence'\u001b[0m\n",
      "  AASequence peptide2 = AASequence::fromString(\"PEPTIDER\");\n",
      "\u001b[0;1;32m                        ^\n",
      "\u001b[0m\u001b[1minput_line_12:10:3: \u001b[0m\u001b[0;1;31merror: \u001b[0m\u001b[1munknown type name 'AASequence'\u001b[0m\n",
      "  AASequence prefix(peptide1.getPrefix(2));\n",
      "\u001b[0;1;32m  ^\n",
      "\u001b[0m\u001b[1minput_line_12:11:3: \u001b[0m\u001b[0;1;31merror: \u001b[0m\u001b[1munknown type name 'AASequence'\u001b[0m\n",
      "  AASequence suffix(peptide1.getSuffix(3));\n",
      "\u001b[0;1;32m  ^\n",
      "\u001b[0m\u001b[1minput_line_12:17:3: \u001b[0m\u001b[0;1;31merror: \u001b[0m\u001b[1munknown type name 'AASequence'\u001b[0m\n",
      "  AASequence peptide_meth_ox = AASequence::fromString(\"PEPTIDESEKUEM(Oxidation)CER\");\n",
      "\u001b[0;1;32m  ^\n",
      "\u001b[0m\u001b[1minput_line_12:17:32: \u001b[0m\u001b[0;1;31merror: \u001b[0m\u001b[1muse of undeclared identifier 'AASequence'\u001b[0m\n",
      "  AASequence peptide_meth_ox = AASequence::fromString(\"PEPTIDESEKUEM(Oxidation)CER\");\n",
      "\u001b[0;1;32m                               ^\n",
      "\u001b[0m\u001b[1minput_line_12:27:57: \u001b[0m\u001b[0;1;31merror: \u001b[0m\u001b[1muse of undeclared identifier 'Residue'\u001b[0m\n",
      "  double ion_mass_2plus = peptide_meth_ox.getMonoWeight(Residue::BIon, 2);\n",
      "\u001b[0;1;32m                                                        ^\n",
      "\u001b[0m\u001b[1minput_line_12:30:97: \u001b[0m\u001b[0;1;31merror: \u001b[0m\u001b[1muse of undeclared identifier 'Residue'\u001b[0m\n",
      "  cout << \"Mass-to-charge of the doubly positively charged b-ion: \" << peptide_meth_ox.getMZ(2, Residue::BIon) << endl;\n",
      "\u001b[0;1;32m                                                                                                ^\n",
      "\u001b[0m"
     ]
    },
    {
     "ename": "Interpreter Error",
     "evalue": "",
     "output_type": "error",
     "traceback": [
      "Interpreter Error: "
     ]
    }
   ],
   "source": [
    "using namespace OpenMS;\n",
    "using namespace std;\n",
    "\n",
    "\n",
    "  // generate AASequence object from String\n",
    "  const String s = \"DEFIANGER\";\n",
    "  AASequence peptide1 = AASequence::fromString(s);\n",
    "\n",
    "  // generate AASequence object from string literal\n",
    "  AASequence peptide2 = AASequence::fromString(\"PEPTIDER\");\n",
    "\n",
    "  // extract prefix and suffix\n",
    "  AASequence prefix(peptide1.getPrefix(2));\n",
    "  AASequence suffix(peptide1.getSuffix(3));\n",
    "  cout << peptide1.toString() << \" \"\n",
    "       << prefix << \" \"\n",
    "       << suffix << endl;\n",
    "  \n",
    "  // create chemically modified peptide\n",
    "  AASequence peptide_meth_ox = AASequence::fromString(\"PEPTIDESEKUEM(Oxidation)CER\");\n",
    "  cout << peptide_meth_ox.toString() << \" \"\n",
    "       << peptide_meth_ox.toUnmodifiedString()\n",
    "       << endl;\n",
    "\n",
    "  // mass of the full, uncharged peptide\n",
    "  double peptide_mass_mono = peptide_meth_ox.getMonoWeight();\n",
    "  cout << \"Monoisotopic mass of the uncharged, full peptide: \" << peptide_mass_mono << endl;\n",
    "\n",
    "  double peptide_mass_avg = peptide_meth_ox.getAverageWeight();\n",
    "  cout << \"Average mass of the uncharged, full peptide: \" << peptide_mass_avg << endl;\n",
    "\n",
    "  // mass of the 2+ charged b-ion with the given sequence\n",
    "  double ion_mass_2plus = peptide_meth_ox.getMonoWeight(Residue::BIon, 2);\n",
    "  cout << \"Mass of the doubly positively charged b-ion: \" << ion_mass_2plus << endl;\n",
    "\n",
    "  // mass-to-charge ratio (m/z) of the 2+ charged b-ion and full peptide with the given sequence\n",
    "  cout << \"Mass-to-charge of the doubly positively charged b-ion: \" << peptide_meth_ox.getMZ(2, Residue::BIon) << endl;\n",
    "  cout << \"Mass-to-charge of the doubly positively charged peptide: \" << peptide_meth_ox.getMZ(2) << endl;\n",
    "\n",
    "  // ... many more\n"
   ]
  },
  {
   "cell_type": "code",
   "execution_count": null,
   "id": "45f289e8",
   "metadata": {},
   "outputs": [],
   "source": []
  }
 ],
 "metadata": {
  "kernelspec": {
   "display_name": "C++17",
   "language": "C++17",
   "name": "xcpp17"
  },
  "language_info": {
   "codemirror_mode": "text/x-c++src",
   "file_extension": ".cpp",
   "mimetype": "text/x-c++src",
   "name": "c++",
   "version": "17"
  }
 },
 "nbformat": 4,
 "nbformat_minor": 5
}
